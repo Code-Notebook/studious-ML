{
  "nbformat": 4,
  "nbformat_minor": 0,
  "metadata": {
    "colab": {
      "name": "基于LSTM单变量预测_电力消耗.ipynb",
      "provenance": [],
      "toc_visible": true
    },
    "kernelspec": {
      "name": "python3",
      "display_name": "Python 3"
    },
    "language_info": {
      "name": "python"
    }
  },
  "cells": [
    {
      "cell_type": "markdown",
      "metadata": {
        "id": "kHQjGLs-vaW2"
      },
      "source": [
        "TensorFlow2.x 基于LSTM单变量预测_电力消耗"
      ]
    },
    {
      "cell_type": "markdown",
      "metadata": {
        "id": "iUFt-A7U2sdV"
      },
      "source": [
        "数据集：DOM_hourly.csv"
      ]
    },
    {
      "cell_type": "markdown",
      "metadata": {
        "id": "F5pH84rT28d1"
      },
      "source": [
        "1. 加载数据集、预处理\n",
        "2. 特征工程\n",
        "3. 构建模型\n",
        "4. 模型编译、训练、验证\n",
        "5. 模型测试\n",
        "6. 可视化结果"
      ]
    },
    {
      "cell_type": "code",
      "metadata": {
        "id": "ltC2G7kUvX7F"
      },
      "source": [
        "import numpy as np\n",
        "import pandas as pd\n",
        "import matplotlib.pyplot as plt\n",
        "import seaborn as sns\n",
        "\n",
        "from sklearn.preprocessing import MinMaxScaler\n",
        "from sklearn.metrics import r2_score\n",
        "\n",
        "import tensorflow as tf\n",
        "from tensorflow.keras import Sequential, layers, utils\n",
        "\n",
        "import warnings\n",
        "warnings.filterwarnings(\"ignore\")"
      ],
      "execution_count": 6,
      "outputs": []
    },
    {
      "cell_type": "markdown",
      "metadata": {
        "id": "Ae0luYVv4zpe"
      },
      "source": [
        "# 第1步：加载数据集、预处理"
      ]
    },
    {
      "cell_type": "code",
      "metadata": {
        "id": "eFrMdxfu4qv9"
      },
      "source": [
        "# 读取数据集\n",
        "dataset = pd.read_csv(\"DOM_hourly.csv\")"
      ],
      "execution_count": 7,
      "outputs": []
    },
    {
      "cell_type": "code",
      "metadata": {
        "colab": {
          "base_uri": "https://localhost:8080/"
        },
        "id": "_xYTisnN5SBi",
        "outputId": "31ae13b6-c115-4010-e9d4-23716d07553b"
      },
      "source": [
        "# 显示shape\n",
        "dataset.shape"
      ],
      "execution_count": 8,
      "outputs": [
        {
          "output_type": "execute_result",
          "data": {
            "text/plain": [
              "(116189, 2)"
            ]
          },
          "metadata": {
            "tags": []
          },
          "execution_count": 8
        }
      ]
    },
    {
      "cell_type": "code",
      "metadata": {
        "colab": {
          "base_uri": "https://localhost:8080/",
          "height": 204
        },
        "id": "F_0pndo15p5K",
        "outputId": "9359c37f-d4b0-419d-f507-219409f957e8"
      },
      "source": [
        "# 默认显示前5行\n",
        "dataset.head()"
      ],
      "execution_count": 9,
      "outputs": [
        {
          "output_type": "execute_result",
          "data": {
            "text/html": [
              "<div>\n",
              "<style scoped>\n",
              "    .dataframe tbody tr th:only-of-type {\n",
              "        vertical-align: middle;\n",
              "    }\n",
              "\n",
              "    .dataframe tbody tr th {\n",
              "        vertical-align: top;\n",
              "    }\n",
              "\n",
              "    .dataframe thead th {\n",
              "        text-align: right;\n",
              "    }\n",
              "</style>\n",
              "<table border=\"1\" class=\"dataframe\">\n",
              "  <thead>\n",
              "    <tr style=\"text-align: right;\">\n",
              "      <th></th>\n",
              "      <th>Datetime</th>\n",
              "      <th>DOM_MW</th>\n",
              "    </tr>\n",
              "  </thead>\n",
              "  <tbody>\n",
              "    <tr>\n",
              "      <th>0</th>\n",
              "      <td>2005-12-31 01:00:00</td>\n",
              "      <td>9389.0</td>\n",
              "    </tr>\n",
              "    <tr>\n",
              "      <th>1</th>\n",
              "      <td>2005-12-31 02:00:00</td>\n",
              "      <td>9070.0</td>\n",
              "    </tr>\n",
              "    <tr>\n",
              "      <th>2</th>\n",
              "      <td>2005-12-31 03:00:00</td>\n",
              "      <td>9001.0</td>\n",
              "    </tr>\n",
              "    <tr>\n",
              "      <th>3</th>\n",
              "      <td>2005-12-31 04:00:00</td>\n",
              "      <td>9042.0</td>\n",
              "    </tr>\n",
              "    <tr>\n",
              "      <th>4</th>\n",
              "      <td>2005-12-31 05:00:00</td>\n",
              "      <td>9132.0</td>\n",
              "    </tr>\n",
              "  </tbody>\n",
              "</table>\n",
              "</div>"
            ],
            "text/plain": [
              "              Datetime  DOM_MW\n",
              "0  2005-12-31 01:00:00  9389.0\n",
              "1  2005-12-31 02:00:00  9070.0\n",
              "2  2005-12-31 03:00:00  9001.0\n",
              "3  2005-12-31 04:00:00  9042.0\n",
              "4  2005-12-31 05:00:00  9132.0"
            ]
          },
          "metadata": {
            "tags": []
          },
          "execution_count": 9
        }
      ]
    },
    {
      "cell_type": "code",
      "metadata": {
        "colab": {
          "base_uri": "https://localhost:8080/",
          "height": 297
        },
        "id": "Sht8G2Hp50V_",
        "outputId": "65491a87-d172-484a-8f9b-005dc95b5aec"
      },
      "source": [
        "# 显示数据描述,统计所有数值类型的列，对于object类型的这种数据列是不会去统计的\n",
        "dataset.describe()"
      ],
      "execution_count": 10,
      "outputs": [
        {
          "output_type": "execute_result",
          "data": {
            "text/html": [
              "<div>\n",
              "<style scoped>\n",
              "    .dataframe tbody tr th:only-of-type {\n",
              "        vertical-align: middle;\n",
              "    }\n",
              "\n",
              "    .dataframe tbody tr th {\n",
              "        vertical-align: top;\n",
              "    }\n",
              "\n",
              "    .dataframe thead th {\n",
              "        text-align: right;\n",
              "    }\n",
              "</style>\n",
              "<table border=\"1\" class=\"dataframe\">\n",
              "  <thead>\n",
              "    <tr style=\"text-align: right;\">\n",
              "      <th></th>\n",
              "      <th>DOM_MW</th>\n",
              "    </tr>\n",
              "  </thead>\n",
              "  <tbody>\n",
              "    <tr>\n",
              "      <th>count</th>\n",
              "      <td>116189.000000</td>\n",
              "    </tr>\n",
              "    <tr>\n",
              "      <th>mean</th>\n",
              "      <td>10949.203625</td>\n",
              "    </tr>\n",
              "    <tr>\n",
              "      <th>std</th>\n",
              "      <td>2413.946569</td>\n",
              "    </tr>\n",
              "    <tr>\n",
              "      <th>min</th>\n",
              "      <td>1253.000000</td>\n",
              "    </tr>\n",
              "    <tr>\n",
              "      <th>25%</th>\n",
              "      <td>9322.000000</td>\n",
              "    </tr>\n",
              "    <tr>\n",
              "      <th>50%</th>\n",
              "      <td>10501.000000</td>\n",
              "    </tr>\n",
              "    <tr>\n",
              "      <th>75%</th>\n",
              "      <td>12378.000000</td>\n",
              "    </tr>\n",
              "    <tr>\n",
              "      <th>max</th>\n",
              "      <td>21651.000000</td>\n",
              "    </tr>\n",
              "  </tbody>\n",
              "</table>\n",
              "</div>"
            ],
            "text/plain": [
              "              DOM_MW\n",
              "count  116189.000000\n",
              "mean    10949.203625\n",
              "std      2413.946569\n",
              "min      1253.000000\n",
              "25%      9322.000000\n",
              "50%     10501.000000\n",
              "75%     12378.000000\n",
              "max     21651.000000"
            ]
          },
          "metadata": {
            "tags": []
          },
          "execution_count": 10
        }
      ]
    },
    {
      "cell_type": "code",
      "metadata": {
        "colab": {
          "base_uri": "https://localhost:8080/"
        },
        "id": "Hs2b6tfi7LxM",
        "outputId": "19497701-9e84-48d5-e44a-84043e94ad34"
      },
      "source": [
        "# 显示字段数据类型\n",
        "dataset.dtypes"
      ],
      "execution_count": 11,
      "outputs": [
        {
          "output_type": "execute_result",
          "data": {
            "text/plain": [
              "Datetime     object\n",
              "DOM_MW      float64\n",
              "dtype: object"
            ]
          },
          "metadata": {
            "tags": []
          },
          "execution_count": 11
        }
      ]
    },
    {
      "cell_type": "code",
      "metadata": {
        "id": "Z5mLBEMB7MQD"
      },
      "source": [
        "# 将字段Datetime数据类型转换为日期类型, 但是原来的数据必须是时间格式\n",
        "dataset[\"Datetime\"] = pd.to_datetime(dataset['Datetime'], format=\"%Y-%m-%d %H:%M:%S\")"
      ],
      "execution_count": 12,
      "outputs": []
    },
    {
      "cell_type": "code",
      "metadata": {
        "colab": {
          "base_uri": "https://localhost:8080/"
        },
        "id": "P-CIJ8gy7Mcb",
        "outputId": "29595618-83fa-473e-d151-8e1f183ec74b"
      },
      "source": [
        "dataset.dtypes"
      ],
      "execution_count": 13,
      "outputs": [
        {
          "output_type": "execute_result",
          "data": {
            "text/plain": [
              "Datetime    datetime64[ns]\n",
              "DOM_MW             float64\n",
              "dtype: object"
            ]
          },
          "metadata": {
            "tags": []
          },
          "execution_count": 13
        }
      ]
    },
    {
      "cell_type": "code",
      "metadata": {
        "id": "7ZjjPMVh8eB4"
      },
      "source": [
        "# 将字段Datetime 设置为索引列\n",
        "# 目的：后续基于索引来进行数据集的切分\n",
        "dataset.index = dataset.Datetime"
      ],
      "execution_count": 14,
      "outputs": []
    },
    {
      "cell_type": "code",
      "metadata": {
        "colab": {
          "base_uri": "https://localhost:8080/",
          "height": 235
        },
        "id": "9wdhhRMc8evh",
        "outputId": "96a637a8-74e4-4d0f-fc3c-1c9e6370d5c9"
      },
      "source": [
        "dataset.head()"
      ],
      "execution_count": 15,
      "outputs": [
        {
          "output_type": "execute_result",
          "data": {
            "text/html": [
              "<div>\n",
              "<style scoped>\n",
              "    .dataframe tbody tr th:only-of-type {\n",
              "        vertical-align: middle;\n",
              "    }\n",
              "\n",
              "    .dataframe tbody tr th {\n",
              "        vertical-align: top;\n",
              "    }\n",
              "\n",
              "    .dataframe thead th {\n",
              "        text-align: right;\n",
              "    }\n",
              "</style>\n",
              "<table border=\"1\" class=\"dataframe\">\n",
              "  <thead>\n",
              "    <tr style=\"text-align: right;\">\n",
              "      <th></th>\n",
              "      <th>Datetime</th>\n",
              "      <th>DOM_MW</th>\n",
              "    </tr>\n",
              "    <tr>\n",
              "      <th>Datetime</th>\n",
              "      <th></th>\n",
              "      <th></th>\n",
              "    </tr>\n",
              "  </thead>\n",
              "  <tbody>\n",
              "    <tr>\n",
              "      <th>2005-12-31 01:00:00</th>\n",
              "      <td>2005-12-31 01:00:00</td>\n",
              "      <td>9389.0</td>\n",
              "    </tr>\n",
              "    <tr>\n",
              "      <th>2005-12-31 02:00:00</th>\n",
              "      <td>2005-12-31 02:00:00</td>\n",
              "      <td>9070.0</td>\n",
              "    </tr>\n",
              "    <tr>\n",
              "      <th>2005-12-31 03:00:00</th>\n",
              "      <td>2005-12-31 03:00:00</td>\n",
              "      <td>9001.0</td>\n",
              "    </tr>\n",
              "    <tr>\n",
              "      <th>2005-12-31 04:00:00</th>\n",
              "      <td>2005-12-31 04:00:00</td>\n",
              "      <td>9042.0</td>\n",
              "    </tr>\n",
              "    <tr>\n",
              "      <th>2005-12-31 05:00:00</th>\n",
              "      <td>2005-12-31 05:00:00</td>\n",
              "      <td>9132.0</td>\n",
              "    </tr>\n",
              "  </tbody>\n",
              "</table>\n",
              "</div>"
            ],
            "text/plain": [
              "                               Datetime  DOM_MW\n",
              "Datetime                                       \n",
              "2005-12-31 01:00:00 2005-12-31 01:00:00  9389.0\n",
              "2005-12-31 02:00:00 2005-12-31 02:00:00  9070.0\n",
              "2005-12-31 03:00:00 2005-12-31 03:00:00  9001.0\n",
              "2005-12-31 04:00:00 2005-12-31 04:00:00  9042.0\n",
              "2005-12-31 05:00:00 2005-12-31 05:00:00  9132.0"
            ]
          },
          "metadata": {
            "tags": []
          },
          "execution_count": 15
        }
      ]
    },
    {
      "cell_type": "code",
      "metadata": {
        "id": "TFgu63jK8e44"
      },
      "source": [
        "# 将原始的Datetime 字段列删除;\n",
        "# columns 删除哪一列，可以填好几列\n",
        "# axis 表示纵向，列\n",
        "# inplace=True是对原始的数据做一个删除\n",
        "dataset.drop(columns=['Datetime'], axis=1, inplace=True)"
      ],
      "execution_count": 16,
      "outputs": []
    },
    {
      "cell_type": "code",
      "metadata": {
        "colab": {
          "base_uri": "https://localhost:8080/",
          "height": 235
        },
        "id": "5niBY5hd8e9M",
        "outputId": "4531cfc6-7e0d-45bc-e9fd-63b2d89e0119"
      },
      "source": [
        "dataset.head()"
      ],
      "execution_count": 17,
      "outputs": [
        {
          "output_type": "execute_result",
          "data": {
            "text/html": [
              "<div>\n",
              "<style scoped>\n",
              "    .dataframe tbody tr th:only-of-type {\n",
              "        vertical-align: middle;\n",
              "    }\n",
              "\n",
              "    .dataframe tbody tr th {\n",
              "        vertical-align: top;\n",
              "    }\n",
              "\n",
              "    .dataframe thead th {\n",
              "        text-align: right;\n",
              "    }\n",
              "</style>\n",
              "<table border=\"1\" class=\"dataframe\">\n",
              "  <thead>\n",
              "    <tr style=\"text-align: right;\">\n",
              "      <th></th>\n",
              "      <th>DOM_MW</th>\n",
              "    </tr>\n",
              "    <tr>\n",
              "      <th>Datetime</th>\n",
              "      <th></th>\n",
              "    </tr>\n",
              "  </thead>\n",
              "  <tbody>\n",
              "    <tr>\n",
              "      <th>2005-12-31 01:00:00</th>\n",
              "      <td>9389.0</td>\n",
              "    </tr>\n",
              "    <tr>\n",
              "      <th>2005-12-31 02:00:00</th>\n",
              "      <td>9070.0</td>\n",
              "    </tr>\n",
              "    <tr>\n",
              "      <th>2005-12-31 03:00:00</th>\n",
              "      <td>9001.0</td>\n",
              "    </tr>\n",
              "    <tr>\n",
              "      <th>2005-12-31 04:00:00</th>\n",
              "      <td>9042.0</td>\n",
              "    </tr>\n",
              "    <tr>\n",
              "      <th>2005-12-31 05:00:00</th>\n",
              "      <td>9132.0</td>\n",
              "    </tr>\n",
              "  </tbody>\n",
              "</table>\n",
              "</div>"
            ],
            "text/plain": [
              "                     DOM_MW\n",
              "Datetime                   \n",
              "2005-12-31 01:00:00  9389.0\n",
              "2005-12-31 02:00:00  9070.0\n",
              "2005-12-31 03:00:00  9001.0\n",
              "2005-12-31 04:00:00  9042.0\n",
              "2005-12-31 05:00:00  9132.0"
            ]
          },
          "metadata": {
            "tags": []
          },
          "execution_count": 17
        }
      ]
    },
    {
      "cell_type": "code",
      "metadata": {
        "colab": {
          "base_uri": "https://localhost:8080/",
          "height": 466
        },
        "id": "fVSfiR_18fVQ",
        "outputId": "bb5ee570-7957-48eb-a7f2-06e16b7b1457"
      },
      "source": [
        "# 可视化显示数据分布情况\n",
        "# figsize: 图片的大小\n",
        "dataset['DOM_MW'].plot(figsize=(16,8))\n",
        "plt.show()"
      ],
      "execution_count": 18,
      "outputs": [
        {
          "output_type": "display_data",
          "data": {
            "image/png": "[encoded data removed]",
            "text/plain": [
              "<Figure size 1152x576 with 1 Axes>"
            ]
          },
          "metadata": {
            "tags": [],
            "needs_background": "light"
          }
        }
      ]
    },
    {
      "cell_type": "code",
      "metadata": {
        "id": "lGHR_DN699xq"
      },
      "source": [
        "# 数据归一化\n",
        "scaler = MinMaxScaler()\n",
        "dataset['DOM_MW'] = scaler.fit_transform(dataset['DOM_MW'].values.reshape(-1, 1))\n",
        "# (-1, 1) -1 表示你这里无论多少行，自己去计算。1 表示1列。"
      ],
      "execution_count": 19,
      "outputs": []
    },
    {
      "cell_type": "code",
      "metadata": {
        "colab": {
          "base_uri": "https://localhost:8080/",
          "height": 235
        },
        "id": "OwfvOH7v993I",
        "outputId": "32b633e0-36cf-4a81-9563-d9051a69fe21"
      },
      "source": [
        "dataset.head()"
      ],
      "execution_count": null,
      "outputs": [
        {
          "output_type": "execute_result",
          "data": {
            "text/html": [
              "<div>\n",
              "<style scoped>\n",
              "    .dataframe tbody tr th:only-of-type {\n",
              "        vertical-align: middle;\n",
              "    }\n",
              "\n",
              "    .dataframe tbody tr th {\n",
              "        vertical-align: top;\n",
              "    }\n",
              "\n",
              "    .dataframe thead th {\n",
              "        text-align: right;\n",
              "    }\n",
              "</style>\n",
              "<table border=\"1\" class=\"dataframe\">\n",
              "  <thead>\n",
              "    <tr style=\"text-align: right;\">\n",
              "      <th></th>\n",
              "      <th>DOM_MW</th>\n",
              "    </tr>\n",
              "    <tr>\n",
              "      <th>Datetime</th>\n",
              "      <th></th>\n",
              "    </tr>\n",
              "  </thead>\n",
              "  <tbody>\n",
              "    <tr>\n",
              "      <th>2005-12-31 01:00:00</th>\n",
              "      <td>0.398863</td>\n",
              "    </tr>\n",
              "    <tr>\n",
              "      <th>2005-12-31 02:00:00</th>\n",
              "      <td>0.383224</td>\n",
              "    </tr>\n",
              "    <tr>\n",
              "      <th>2005-12-31 03:00:00</th>\n",
              "      <td>0.379841</td>\n",
              "    </tr>\n",
              "    <tr>\n",
              "      <th>2005-12-31 04:00:00</th>\n",
              "      <td>0.381851</td>\n",
              "    </tr>\n",
              "    <tr>\n",
              "      <th>2005-12-31 05:00:00</th>\n",
              "      <td>0.386263</td>\n",
              "    </tr>\n",
              "  </tbody>\n",
              "</table>\n",
              "</div>"
            ],
            "text/plain": [
              "                       DOM_MW\n",
              "Datetime                     \n",
              "2005-12-31 01:00:00  0.398863\n",
              "2005-12-31 02:00:00  0.383224\n",
              "2005-12-31 03:00:00  0.379841\n",
              "2005-12-31 04:00:00  0.381851\n",
              "2005-12-31 05:00:00  0.386263"
            ]
          },
          "metadata": {
            "tags": []
          },
          "execution_count": 25
        }
      ]
    },
    {
      "cell_type": "code",
      "metadata": {
        "colab": {
          "base_uri": "https://localhost:8080/",
          "height": 465
        },
        "id": "v1gmLXk9999N",
        "outputId": "ef38073f-d4bc-4c68-a5f7-41d91f8393dc"
      },
      "source": [
        "# 可视化显示数据分布情况\n",
        "# figsize: 图片的大小\n",
        "dataset['DOM_MW'].plot(figsize=(16,8))\n",
        "plt.show()"
      ],
      "execution_count": 20,
      "outputs": [
        {
          "output_type": "display_data",
          "data": {
            "image/png": "[encoded data removed]",
            "text/plain": [
              "<Figure size 1152x576 with 1 Axes>"
            ]
          },
          "metadata": {
            "tags": [],
            "needs_background": "light"
          }
        }
      ]
    },
    {
      "cell_type": "markdown",
      "metadata": {
        "id": "RACwTfVWAHjF"
      },
      "source": [
        "# 第2步：特征工程"
      ]
    },
    {
      "cell_type": "code",
      "metadata": {
        "id": "S3zpHkkZ_zuK"
      },
      "source": [
        "# 功能函数：构造特征集和标签集\n",
        "def create_new_dataset(dataset, seq_len = 12):\n",
        "  '''基于原始数据集构造新的序列特征数据集\n",
        "  Params：\n",
        "    dataset: 原始数据集\n",
        "    seq_len: 序列长度（时间跨度），相当于滑窗\n",
        "  '''\n",
        "  X = []  # 初始特征数据集为空列表\n",
        "  y = []  # 初始标签数据集为空列表\n",
        "\n",
        "  start = 0  # 初始位置\n",
        "  end = dataset.shape[0] - seq_len  # 截止位置\n",
        "\n",
        "  for i in range(start, end):  # for 循环构造特征数据集\n",
        "    sample = dataset[i: i + seq_len]  # 基于时间跨度seq_len 创建样本\n",
        "    lable = dataset[i + seq_len]    # 创建sample 对应的标签\n",
        "    X.append(sample)  # 保存sample\n",
        "    y.append(lable)  # 保存label\n",
        "  \n",
        "  # 返回特征数据集和标签集\n",
        "  return np.array(X), np.array(y)"
      ],
      "execution_count": 31,
      "outputs": []
    },
    {
      "cell_type": "code",
      "metadata": {
        "id": "x7FEfCjeABHZ"
      },
      "source": [
        "# 功能函数：基于新的特征的数据集和标签集，切分：X_train, X_test\n",
        "# 这个数据集的切分是有时间前后关系的\n",
        "# 就是切片处理\n",
        "def split_dataset(X, y, train_ratio=0.8):\n",
        "  '''\n",
        "  X: 特征数据集\n",
        "  y: 标签数据集\n",
        "  train_ratio: 训练集占X的比例\n",
        "  '''\n",
        "  X_len = len(X)  # 特征数据集X的样本容量\n",
        "  train_data_len = int(X_len * train_ratio) # 训练集的样本容量\n",
        "\n",
        "  X_train = X[:train_data_len]  # 训练集\n",
        "  y_train = y[:train_data_len]  # 训练标签集\n",
        "\n",
        "  X_test = X[train_data_len:]  # 测试集\n",
        "  y_test = y[train_data_len:]  # 测试标签集\n",
        "\n",
        "  # 返回值\n",
        "  return X_train, X_test, y_train, y_test"
      ],
      "execution_count": 29,
      "outputs": []
    },
    {
      "cell_type": "code",
      "metadata": {
        "id": "PCdSb3a6_zCE"
      },
      "source": [
        "# 功能函数：基于新的X_train, X_test, y_train, y_test创建批数据(batch dataset)\n",
        "def create_batch_data(X, y, batch_size=32, data_type=1):\n",
        "  '''基于训练集和测试集，创建批数据\n",
        "  X: 训练标签集\n",
        "  y： 标签数据集\n",
        "  batch_size: batch的大小，即一个数据块里面有几个样本\n",
        "  data_type: 1 表示测试机，else 表示训练集\n",
        "  '''\n",
        "  if data_type == 1:\n",
        "    dataset = tf.data.Dataset.from_tensor_slices((tf.constant(X), tf.constant(y)))  # 封装X和y成为tensor类型\n",
        "    test_batch_data = dataset.batch(batch_size)  # 构造批数据\n",
        "    return test_batch_data\n",
        "  else:\n",
        "    dataset = tf.data.Dataset.from_tensor_slices((tf.constant(X), tf.constant(y)))\n",
        "    train_batch_data = dataset.cache().shuffle(1000).batch(batch_size)  # cache()：将数据加载到内存中去，shuffle():打乱\n",
        "    return train_batch_data"
      ],
      "execution_count": 23,
      "outputs": []
    },
    {
      "cell_type": "code",
      "metadata": {
        "id": "p0ErbRmd_zFm"
      },
      "source": [
        "# 原始数据集\n",
        "dataset_original = dataset"
      ],
      "execution_count": 24,
      "outputs": []
    },
    {
      "cell_type": "code",
      "metadata": {
        "id": "UH-GpT-G9-Bq",
        "colab": {
          "base_uri": "https://localhost:8080/"
        },
        "outputId": "7ee17007-ad13-42a2-a687-b76f0d1907dd"
      },
      "source": [
        "print(\"原始数据集：\", dataset_original.shape)"
      ],
      "execution_count": 25,
      "outputs": [
        {
          "output_type": "stream",
          "text": [
            "原始数据集： (116189, 1)\n"
          ],
          "name": "stdout"
        }
      ]
    },
    {
      "cell_type": "code",
      "metadata": {
        "id": "kuI3OvysHuQu"
      },
      "source": [
        "# 构造特征集和标签集\n",
        "SEQ_LEN = 20  # 序列长度\n",
        "X, y = create_new_dataset(dataset_original.values, seq_len=SEQ_LEN)"
      ],
      "execution_count": 32,
      "outputs": []
    },
    {
      "cell_type": "code",
      "metadata": {
        "colab": {
          "base_uri": "https://localhost:8080/"
        },
        "id": "7MY2nD_8JAFt",
        "outputId": "9f2150aa-e57f-4e1e-b552-39a2e135c704"
      },
      "source": [
        "X.shape"
      ],
      "execution_count": 33,
      "outputs": [
        {
          "output_type": "execute_result",
          "data": {
            "text/plain": [
              "(116169, 20, 1)"
            ]
          },
          "metadata": {
            "tags": []
          },
          "execution_count": 33
        }
      ]
    },
    {
      "cell_type": "code",
      "metadata": {
        "colab": {
          "base_uri": "https://localhost:8080/"
        },
        "id": "imosZ5lAJAJV",
        "outputId": "35137bd2-df2e-45c2-e693-421505509119"
      },
      "source": [
        "y.shape"
      ],
      "execution_count": 34,
      "outputs": [
        {
          "output_type": "execute_result",
          "data": {
            "text/plain": [
              "(116169, 1)"
            ]
          },
          "metadata": {
            "tags": []
          },
          "execution_count": 34
        }
      ]
    },
    {
      "cell_type": "code",
      "metadata": {
        "colab": {
          "base_uri": "https://localhost:8080/"
        },
        "id": "pj66iPOkHuYa",
        "outputId": "3fc44722-3d22-45dc-eecb-4add073e7b6d"
      },
      "source": [
        "# 样本1 - 特征数据\n",
        "X[0]"
      ],
      "execution_count": 35,
      "outputs": [
        {
          "output_type": "execute_result",
          "data": {
            "text/plain": [
              "array([[0.39886263],\n",
              "       [0.38322385],\n",
              "       [0.37984116],\n",
              "       [0.38185116],\n",
              "       [0.38626336],\n",
              "       [0.39709775],\n",
              "       [0.41518776],\n",
              "       [0.43827826],\n",
              "       [0.45754486],\n",
              "       [0.47372291],\n",
              "       [0.47455633],\n",
              "       [0.46303559],\n",
              "       [0.44460241],\n",
              "       [0.4206785 ],\n",
              "       [0.40445142],\n",
              "       [0.39910776],\n",
              "       [0.4164624 ],\n",
              "       [0.47651731],\n",
              "       [0.49068536],\n",
              "       [0.47519365]])"
            ]
          },
          "metadata": {
            "tags": []
          },
          "execution_count": 35
        }
      ]
    },
    {
      "cell_type": "code",
      "metadata": {
        "colab": {
          "base_uri": "https://localhost:8080/"
        },
        "id": "q7itWLHdJ3Cs",
        "outputId": "1ababb93-f8cf-43cb-90a7-93ecfd4950c0"
      },
      "source": [
        "# 样本1 - 标签\n",
        "y[0]"
      ],
      "execution_count": 37,
      "outputs": [
        {
          "output_type": "execute_result",
          "data": {
            "text/plain": [
              "array([0.46450632])"
            ]
          },
          "metadata": {
            "tags": []
          },
          "execution_count": 37
        }
      ]
    },
    {
      "cell_type": "code",
      "metadata": {
        "id": "BhliBdCvJ3GP"
      },
      "source": [
        "# 数据切分\n",
        "X_train, X_test, y_train, y_test = split_dataset(X, y)"
      ],
      "execution_count": 38,
      "outputs": []
    },
    {
      "cell_type": "code",
      "metadata": {
        "colab": {
          "base_uri": "https://localhost:8080/"
        },
        "id": "6HVFPofSJ3Ly",
        "outputId": "edd7e6b5-67d4-4c13-f9f8-12beac2e2d49"
      },
      "source": [
        "X_train.shape"
      ],
      "execution_count": 39,
      "outputs": [
        {
          "output_type": "execute_result",
          "data": {
            "text/plain": [
              "(92935, 20, 1)"
            ]
          },
          "metadata": {
            "tags": []
          },
          "execution_count": 39
        }
      ]
    },
    {
      "cell_type": "code",
      "metadata": {
        "colab": {
          "base_uri": "https://localhost:8080/"
        },
        "id": "L5rLBYSoK3Df",
        "outputId": "0fdfc0d6-5b40-4a5b-dd53-5ae99b668e51"
      },
      "source": [
        "y_train.shape"
      ],
      "execution_count": 41,
      "outputs": [
        {
          "output_type": "execute_result",
          "data": {
            "text/plain": [
              "(92935, 1)"
            ]
          },
          "metadata": {
            "tags": []
          },
          "execution_count": 41
        }
      ]
    },
    {
      "cell_type": "code",
      "metadata": {
        "id": "PTLuzCam8fb2",
        "colab": {
          "base_uri": "https://localhost:8080/"
        },
        "outputId": "b033dbc4-0da7-4e62-ec6b-1013c88867e5"
      },
      "source": [
        "X_test.shape"
      ],
      "execution_count": 40,
      "outputs": [
        {
          "output_type": "execute_result",
          "data": {
            "text/plain": [
              "(23234, 20, 1)"
            ]
          },
          "metadata": {
            "tags": []
          },
          "execution_count": 40
        }
      ]
    },
    {
      "cell_type": "code",
      "metadata": {
        "colab": {
          "base_uri": "https://localhost:8080/"
        },
        "id": "ZO1r0RpQLA4E",
        "outputId": "a96819f0-9d67-4ee6-f788-3ecdb6d31112"
      },
      "source": [
        "y_test.shape"
      ],
      "execution_count": 42,
      "outputs": [
        {
          "output_type": "execute_result",
          "data": {
            "text/plain": [
              "(23234, 1)"
            ]
          },
          "metadata": {
            "tags": []
          },
          "execution_count": 42
        }
      ]
    },
    {
      "cell_type": "code",
      "metadata": {
        "id": "YtVW1TDlLA6o"
      },
      "source": [
        "# 基于新的X_train, X_test, y_train, y_test创建批数据 batch dataset\n",
        "# 测试批数据\n",
        "test_batch_dataset = create_batch_data(X_test, y_test, batch_size=64, data_type=1)"
      ],
      "execution_count": 46,
      "outputs": []
    },
    {
      "cell_type": "code",
      "metadata": {
        "id": "0GXj4YQKLA_9"
      },
      "source": [
        "# 训练批数据\n",
        "train_batch_dataset = create_batch_data(X_train, y_train, batch_size=64, data_type=2)"
      ],
      "execution_count": 47,
      "outputs": []
    },
    {
      "cell_type": "markdown",
      "metadata": {
        "id": "YqfJdRp6MjVh"
      },
      "source": [
        "# 第3步：构造模型"
      ]
    },
    {
      "cell_type": "code",
      "metadata": {
        "id": "9Gj0BLh5LBC4"
      },
      "source": [
        "model = Sequential([\n",
        "      layers.LSTM(8, input_shape=(SEQ_LEN, 1)),\n",
        "      layers.Dense(1)\n",
        "])"
      ],
      "execution_count": 49,
      "outputs": []
    },
    {
      "cell_type": "code",
      "metadata": {
        "colab": {
          "base_uri": "https://localhost:8080/",
          "height": 272
        },
        "id": "DZpd9mVOLBGC",
        "outputId": "41dba555-bdc7-4025-a186-08728b1f0799"
      },
      "source": [
        "# 显示模型结构\n",
        "utils.plot_model(model)"
      ],
      "execution_count": 50,
      "outputs": [
        {
          "output_type": "execute_result",
          "data": {
            "image/png": "[encoded data removed]",
            "text/plain": [
              "<IPython.core.display.Image object>"
            ]
          },
          "metadata": {
            "tags": []
          },
          "execution_count": 50
        }
      ]
    },
    {
      "cell_type": "code",
      "metadata": {
        "id": "UegjXGTiLBIb"
      },
      "source": [
        "# 定义checkpoint, 保存权重文件\n",
        "file_path = 'best_checkpoint.hdf5'\n",
        "checkpoint_callback = tf.keras.callbacks.ModelCheckpoint(filepath=file_path,\n",
        "                             monitor='loss',  # 检测值，检测训练的loss，保存loss最小的模型\n",
        "                             mode='min',\n",
        "                             save_best_only=True,\n",
        "                             save_weights_only=True\n",
        "                              )"
      ],
      "execution_count": 51,
      "outputs": []
    },
    {
      "cell_type": "markdown",
      "metadata": {
        "id": "mPdDsV7KOtVI"
      },
      "source": [
        "# 第4步：模型编译、训练、验证"
      ]
    },
    {
      "cell_type": "code",
      "metadata": {
        "id": "x0vsUF6aLBLR"
      },
      "source": [
        "# 模型编译\n",
        "model.compile(optimizer='adam', loss='mae')"
      ],
      "execution_count": 53,
      "outputs": []
    },
    {
      "cell_type": "code",
      "metadata": {
        "colab": {
          "base_uri": "https://localhost:8080/"
        },
        "id": "YeeNxhkVOssK",
        "outputId": "b5a3cd7e-ce03-45d8-a9da-45b3eda00df7"
      },
      "source": [
        "# 模型训练\n",
        "history = model.fit(train_batch_dataset, epochs=10,validation_data=test_batch_dataset,callbacks=[checkpoint_callback])"
      ],
      "execution_count": 54,
      "outputs": [
        {
          "output_type": "stream",
          "text": [
            "Epoch 1/10\n",
            "1453/1453 [==============================] - 12s 7ms/step - loss: 0.0360 - val_loss: 0.0183\n",
            "Epoch 2/10\n",
            "1453/1453 [==============================] - 10s 7ms/step - loss: 0.0155 - val_loss: 0.0140\n",
            "Epoch 3/10\n",
            "1453/1453 [==============================] - 10s 7ms/step - loss: 0.0133 - val_loss: 0.0128\n",
            "Epoch 4/10\n",
            "1453/1453 [==============================] - 10s 7ms/step - loss: 0.0126 - val_loss: 0.0129\n",
            "Epoch 5/10\n",
            "1453/1453 [==============================] - 10s 7ms/step - loss: 0.0124 - val_loss: 0.0124\n",
            "Epoch 6/10\n",
            "1453/1453 [==============================] - 10s 7ms/step - loss: 0.0122 - val_loss: 0.0126\n",
            "Epoch 7/10\n",
            "1453/1453 [==============================] - 10s 7ms/step - loss: 0.0121 - val_loss: 0.0125\n",
            "Epoch 8/10\n",
            "1453/1453 [==============================] - 10s 7ms/step - loss: 0.0119 - val_loss: 0.0125\n",
            "Epoch 9/10\n",
            "1453/1453 [==============================] - 10s 7ms/step - loss: 0.0117 - val_loss: 0.0124\n",
            "Epoch 10/10\n",
            "1453/1453 [==============================] - 10s 7ms/step - loss: 0.0116 - val_loss: 0.0121\n"
          ],
          "name": "stdout"
        }
      ]
    },
    {
      "cell_type": "code",
      "metadata": {
        "colab": {
          "base_uri": "https://localhost:8080/",
          "height": 513
        },
        "id": "LpZ72c1YOsu2",
        "outputId": "1141e9a2-51a7-45df-ffc0-a1e601e3c111"
      },
      "source": [
        "# 显示train loss 和 val loss\n",
        "plt.figure(figsize=(16, 8))\n",
        "plt.plot(history.history['loss'], label='train loss')\n",
        "plt.plot(history.history['val_loss'], label='val loss')\n",
        "plt.title('LOSS')\n",
        "plt.xlabel('Epochs')\n",
        "plt.ylabel('Loss')\n",
        "plt.legend(loc='best')\n",
        "plt.show()"
      ],
      "execution_count": 56,
      "outputs": [
        {
          "output_type": "display_data",
          "data": {
            "image/png": "[encoded data removed]",
            "text/plain": [
              "<Figure size 1152x576 with 1 Axes>"
            ]
          },
          "metadata": {
            "tags": [],
            "needs_background": "light"
          }
        }
      ]
    },
    {
      "cell_type": "code",
      "metadata": {
        "colab": {
          "base_uri": "https://localhost:8080/"
        },
        "id": "PSo3WLAQOsxA",
        "outputId": "13a90d63-230a-44ff-8bd2-502faa9d53f5"
      },
      "source": [
        "# 模型验证\n",
        "test_pred = model.predict(X_test, verbose=1)"
      ],
      "execution_count": 57,
      "outputs": [
        {
          "output_type": "stream",
          "text": [
            "727/727 [==============================] - 2s 2ms/step\n"
          ],
          "name": "stdout"
        }
      ]
    },
    {
      "cell_type": "code",
      "metadata": {
        "colab": {
          "base_uri": "https://localhost:8080/"
        },
        "id": "j8bLfVlLUOFP",
        "outputId": "aec847c8-c08b-4f2b-a13d-65dfc8baaa12"
      },
      "source": [
        "test_pred.shape  # 预测值的shape"
      ],
      "execution_count": 58,
      "outputs": [
        {
          "output_type": "execute_result",
          "data": {
            "text/plain": [
              "(23234, 1)"
            ]
          },
          "metadata": {
            "tags": []
          },
          "execution_count": 58
        }
      ]
    },
    {
      "cell_type": "code",
      "metadata": {
        "colab": {
          "base_uri": "https://localhost:8080/"
        },
        "id": "sU8as52zUOIZ",
        "outputId": "c02c4e73-16ca-4329-c125-cbf0f2fbd4f4"
      },
      "source": [
        "y_test.shape   # 真值标签的shape"
      ],
      "execution_count": 59,
      "outputs": [
        {
          "output_type": "execute_result",
          "data": {
            "text/plain": [
              "(23234, 1)"
            ]
          },
          "metadata": {
            "tags": []
          },
          "execution_count": 59
        }
      ]
    },
    {
      "cell_type": "code",
      "metadata": {
        "id": "j8h09U4VUOLC"
      },
      "source": [
        "# 计算 r2，回归案例一般用r2值来计算,衡量模型的性能，拟合的效果是怎样的\n",
        "score = r2_score(y_test, test_pred)"
      ],
      "execution_count": 60,
      "outputs": []
    },
    {
      "cell_type": "code",
      "metadata": {
        "colab": {
          "base_uri": "https://localhost:8080/"
        },
        "id": "-y4NefhYVPiE",
        "outputId": "88efd959-6aeb-4dca-bf24-518c7518b9f1"
      },
      "source": [
        "print(\"r^2 的值：\", score)"
      ],
      "execution_count": 61,
      "outputs": [
        {
          "output_type": "stream",
          "text": [
            "r^2 的值： 0.9689508976028507\n"
          ],
          "name": "stdout"
        }
      ]
    },
    {
      "cell_type": "code",
      "metadata": {
        "colab": {
          "base_uri": "https://localhost:8080/",
          "height": 499
        },
        "id": "WvlPFRBgVPlc",
        "outputId": "d081ec1a-1628-47a8-bf88-71a509871acc"
      },
      "source": [
        "# 绘制模型验证结果\n",
        "plt.figure(figsize=(16, 8))\n",
        "plt.plot(y_test, label='True label')\n",
        "plt.plot(test_pred, label='Pred label')\n",
        "plt.title('True vs Pred')\n",
        "plt.legend(loc='best')\n",
        "plt.show()"
      ],
      "execution_count": 62,
      "outputs": [
        {
          "output_type": "display_data",
          "data": {
            "image/png": "[encoded data removed]",
            "text/plain": [
              "<Figure size 1152x576 with 1 Axes>"
            ]
          },
          "metadata": {
            "tags": [],
            "needs_background": "light"
          }
        }
      ]
    },
    {
      "cell_type": "code",
      "metadata": {
        "colab": {
          "base_uri": "https://localhost:8080/",
          "height": 483
        },
        "id": "hdbpCSwlVPsJ",
        "outputId": "df8b580e-edaf-4ec0-a177-cc2b51947fcb"
      },
      "source": [
        "# 绘制test中前100个点的真值和预测值\n",
        "y_true = y_test[:100]\n",
        "y_pred = test_pred[:100]\n",
        "\n",
        "fig, axes = plt.subplots(2, 1, figsize=(16, 8))\n",
        "axes[0].plot(y_true, marker='o', color='red')\n",
        "axes[1].plot(y_pred, marker='*', color='blue')\n",
        "plt.show()"
      ],
      "execution_count": 63,
      "outputs": [
        {
          "output_type": "display_data",
          "data": {
            "image/png": "[encoded data removed]",
            "text/plain": [
              "<Figure size 1152x576 with 2 Axes>"
            ]
          },
          "metadata": {
            "tags": [],
            "needs_background": "light"
          }
        }
      ]
    },
    {
      "cell_type": "markdown",
      "metadata": {
        "id": "Y-EAECY9Y985"
      },
      "source": [
        "# 第5步：模型测试"
      ]
    },
    {
      "cell_type": "code",
      "metadata": {
        "colab": {
          "base_uri": "https://localhost:8080/"
        },
        "id": "QfwN2JPSXvjw",
        "outputId": "bfbef747-e998-49e1-a060-7727a78eda3b"
      },
      "source": [
        "# 选择test中的最后一个样本\n",
        "sample = X_test[-1]\n",
        "sample.shape"
      ],
      "execution_count": 71,
      "outputs": [
        {
          "output_type": "execute_result",
          "data": {
            "text/plain": [
              "(20, 1)"
            ]
          },
          "metadata": {
            "tags": []
          },
          "execution_count": 71
        }
      ]
    },
    {
      "cell_type": "code",
      "metadata": {
        "id": "IAiqv3LGXvsU"
      },
      "source": [
        "sample = sample.reshape(1, sample.shape[0], 1)  # 第一个1 是batch size，"
      ],
      "execution_count": 72,
      "outputs": []
    },
    {
      "cell_type": "code",
      "metadata": {
        "colab": {
          "base_uri": "https://localhost:8080/"
        },
        "id": "lHeUolVHhHea",
        "outputId": "10e5ee90-253d-425b-baa5-daa8cb0951a1"
      },
      "source": [
        "sample.shape  # 符合LSTM网络模型输入的shape"
      ],
      "execution_count": 74,
      "outputs": [
        {
          "output_type": "execute_result",
          "data": {
            "text/plain": [
              "(1, 20, 1)"
            ]
          },
          "metadata": {
            "tags": []
          },
          "execution_count": 74
        }
      ]
    },
    {
      "cell_type": "code",
      "metadata": {
        "colab": {
          "base_uri": "https://localhost:8080/"
        },
        "id": "aWriRdmvhHk_",
        "outputId": "8a2086ae-d7a9-4325-b5a9-d0787dc93ffa"
      },
      "source": [
        "# 模型预测\n",
        "sample_pred = model.predict(sample)\n",
        "sample_pred"
      ],
      "execution_count": 77,
      "outputs": [
        {
          "output_type": "execute_result",
          "data": {
            "text/plain": [
              "array([[0.79405653]], dtype=float32)"
            ]
          },
          "metadata": {
            "tags": []
          },
          "execution_count": 77
        }
      ]
    },
    {
      "cell_type": "code",
      "metadata": {
        "colab": {
          "base_uri": "https://localhost:8080/"
        },
        "id": "qf3DXVbIhHp1",
        "outputId": "7373518b-38c9-4a78-c651-aa01f46b4a0e"
      },
      "source": [
        "# 预测后续20个点的值\n",
        "true_data = X_test[-1]\n",
        "true_data"
      ],
      "execution_count": 78,
      "outputs": [
        {
          "output_type": "execute_result",
          "data": {
            "text/plain": [
              "array([[0.77978233],\n",
              "       [0.79566624],\n",
              "       [0.81694284],\n",
              "       [0.83297382],\n",
              "       [0.84434749],\n",
              "       [0.83120894],\n",
              "       [0.79287185],\n",
              "       [0.76370232],\n",
              "       [0.73982743],\n",
              "       [0.72595352],\n",
              "       [0.70825571],\n",
              "       [0.69791156],\n",
              "       [0.70619669],\n",
              "       [0.74360231],\n",
              "       [0.81125601],\n",
              "       [0.83321894],\n",
              "       [0.84150407],\n",
              "       [0.84880871],\n",
              "       [0.83606236],\n",
              "       [0.81189332]])"
            ]
          },
          "metadata": {
            "tags": []
          },
          "execution_count": 78
        }
      ]
    },
    {
      "cell_type": "code",
      "metadata": {
        "colab": {
          "base_uri": "https://localhost:8080/"
        },
        "id": "JeQRuTyoi8ch",
        "outputId": "347969fc-2abb-402b-f52c-634915c57e8c"
      },
      "source": [
        "true_data.shape"
      ],
      "execution_count": 79,
      "outputs": [
        {
          "output_type": "execute_result",
          "data": {
            "text/plain": [
              "(20, 1)"
            ]
          },
          "metadata": {
            "tags": []
          },
          "execution_count": 79
        }
      ]
    },
    {
      "cell_type": "code",
      "metadata": {
        "colab": {
          "base_uri": "https://localhost:8080/"
        },
        "id": "HLbZW2zWjpjD",
        "outputId": "25478a39-dda7-4de2-e0fb-af7efec468f1"
      },
      "source": [
        "list(true_data[:, 0])"
      ],
      "execution_count": 80,
      "outputs": [
        {
          "output_type": "execute_result",
          "data": {
            "text/plain": [
              "[0.7797823316011374,\n",
              " 0.7956662417884106,\n",
              " 0.8169428375330915,\n",
              " 0.8329738209628395,\n",
              " 0.8443474850475536,\n",
              " 0.8312089420531424,\n",
              " 0.7928718501813903,\n",
              " 0.7637023237572311,\n",
              " 0.739827434062163,\n",
              " 0.725953524855378,\n",
              " 0.7082557113442495,\n",
              " 0.6979115599568585,\n",
              " 0.7061966859496029,\n",
              " 0.7436023139523482,\n",
              " 0.8112560054907344,\n",
              " 0.8332189430336308,\n",
              " 0.8415040690263751,\n",
              " 0.8488087067359545,\n",
              " 0.8360623590548093,\n",
              " 0.8118933228747917]"
            ]
          },
          "metadata": {
            "tags": []
          },
          "execution_count": 80
        }
      ]
    },
    {
      "cell_type": "code",
      "metadata": {
        "id": "ft_cUvj3jqwv"
      },
      "source": [
        "def predict_next(model, sample, epoch=20):\n",
        "  templ = list(sample[:,0])\n",
        "  for i in range(epoch):\n",
        "    sample = sample.reshape(1, SEQ_LEN, 1)\n",
        "    pred = model.predict(sample)\n",
        "    value = pred.tolist()[0][0]\n",
        "    templ.append(value)\n",
        "    sample = np.array(templ[i + 1: i + SEQ_LEN + 1])\n",
        "  return templ"
      ],
      "execution_count": 83,
      "outputs": []
    },
    {
      "cell_type": "code",
      "metadata": {
        "id": "VkcMEA8ekBOS"
      },
      "source": [
        "preds = predict_next(model, true_data, 20)"
      ],
      "execution_count": 84,
      "outputs": []
    },
    {
      "cell_type": "code",
      "metadata": {
        "colab": {
          "base_uri": "https://localhost:8080/"
        },
        "id": "LhW6WwqikBad",
        "outputId": "ba0e853c-89b4-4a3a-a943-0d1f4b05376e"
      },
      "source": [
        "len(preds)"
      ],
      "execution_count": 87,
      "outputs": [
        {
          "output_type": "execute_result",
          "data": {
            "text/plain": [
              "40"
            ]
          },
          "metadata": {
            "tags": []
          },
          "execution_count": 87
        }
      ]
    },
    {
      "cell_type": "code",
      "metadata": {
        "colab": {
          "base_uri": "https://localhost:8080/",
          "height": 497
        },
        "id": "_3Yp_tQQjqzm",
        "outputId": "7ae14524-f0f6-43b8-a6e6-2ea5b68365d0"
      },
      "source": [
        "plt.figure(figsize=(16,8))\n",
        "plt.plot(preds,color = 'yellow', label='Prediction')\n",
        "plt.plot(true_data, color='blue', label='Truth')\n",
        "plt.xlabel(\"Epochs\")\n",
        "plt.ylabel('Value')\n",
        "plt.legend(loc='best')\n",
        "plt.show()"
      ],
      "execution_count": 88,
      "outputs": [
        {
          "output_type": "display_data",
          "data": {
            "image/png": "[encoded data removed]",
            "text/plain": [
              "<Figure size 1152x576 with 1 Axes>"
            ]
          },
          "metadata": {
            "tags": [],
            "needs_background": "light"
          }
        }
      ]
    }
  ]
}