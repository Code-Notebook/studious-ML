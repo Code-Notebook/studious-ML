{
  "nbformat": 4,
  "nbformat_minor": 0,
  "metadata": {
    "colab": {
      "name": "基于LSTM单变量预测_电力消耗.ipynb",
      "provenance": []
    },
    "kernelspec": {
      "name": "python3",
      "display_name": "Python 3"
    },
    "language_info": {
      "name": "python"
    }
  },
  "cells": [
    {
      "cell_type": "markdown",
      "metadata": {
        "id": "kHQjGLs-vaW2"
      },
      "source": [
        "TensorFlow2.x 基于LSTM单变量预测_电力消耗"
      ]
    },
    {
      "cell_type": "code",
      "metadata": {
        "id": "ltC2G7kUvX7F"
      },
      "source": [
        ""
      ],
      "execution_count": null,
      "outputs": []
    }
  ]
}